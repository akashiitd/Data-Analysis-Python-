{
 "cells": [
  {
   "cell_type": "code",
   "execution_count": 31,
   "metadata": {
    "collapsed": true
   },
   "outputs": [],
   "source": [
    "\n"
   ]
  },
  {
   "cell_type": "code",
   "execution_count": 138,
   "metadata": {
    "collapsed": false
   },
   "outputs": [],
   "source": [
    "def last_name(a):\n",
    "    if(a==0):\n",
    "        return(\"INSOMNIA\")\n",
    "    else:\n",
    "        for i in range(1,1000001):\n",
    "            z=i*a\n",
    "            k=[x for x in str(z)]\n",
    "            #print(k)\n",
    "            if(i==1):\n",
    "                prev_list = set(k)\n",
    "            else:\n",
    "                prev_list = list(set((list(prev_list)+k)))\n",
    "                \n",
    "                #print(prev_list)\n",
    "                if(sorted(prev_list) == num_list):\n",
    "                    return(z)\n",
    "                    break\n",
    "                \n",
    "            \n",
    "        \n",
    "\"\"\"Boiler Plate\"\"\"        \n",
    "import sys\n",
    "num_list = ['0','1','2','3','4','5','6','7','8','9']    \n",
    "mylist =[]\n",
    "f = open(r\"D:\\Users\\703183779\\Downloads\\A-large-practice.in\",mode=\"r\")\n",
    "for line in f:\n",
    "    mylist.append(line)\n",
    "\n",
    "mylist=[x.replace(\"\\n\",\"\") for x in mylist]\n",
    "mylist=mylist[1:]\n",
    "orig_stdout = sys.stdout\n",
    "z = open(r'D:\\Users\\703183779\\Documents\\Mounika\\output_large.txt', 'w')\n",
    "sys.stdout = z\n",
    "#print(mylist)\n",
    "for index,val in enumerate(mylist):\n",
    "    print(\"Case #{}: {}\".format(index+1,last_name(int(val))))\n",
    "sys.stdout = orig_stdout\n",
    "z.close()    \n"
   ]
  },
  {
   "cell_type": "code",
   "execution_count": 130,
   "metadata": {
    "collapsed": false
   },
   "outputs": [],
   "source": [
    "mylist =[]\n",
    "f = open(r\"D:\\Users\\703183779\\Downloads\\A-small-practice.in\",mode=\"r\")\n",
    "for line in f:\n",
    "    mylist.append(line)\n",
    "\n",
    "mylist=[x.replace(\"\\n\",\"\") for x in mylist]\n",
    "mylist=mylist[1:]\n"
   ]
  },
  {
   "cell_type": "code",
   "execution_count": 116,
   "metadata": {
    "collapsed": false
   },
   "outputs": [
    {
     "data": {
      "text/plain": [
       "[]"
      ]
     },
     "execution_count": 116,
     "metadata": {},
     "output_type": "execute_result"
    }
   ],
   "source": []
  },
  {
   "cell_type": "code",
   "execution_count": 117,
   "metadata": {
    "collapsed": false
   },
   "outputs": [],
   "source": [
    "mylist = []\n",
    "f = open(r\"D:\\Users\\703183779\\Downloads\\A-small-practice.in\",mode=\"r\")\n",
    "for line in f:\n",
    "    mylist.append(line)\n"
   ]
  },
  {
   "cell_type": "code",
   "execution_count": 118,
   "metadata": {
    "collapsed": false
   },
   "outputs": [
    {
     "data": {
      "text/plain": [
       "['0',\n",
       " '1',\n",
       " '2',\n",
       " '11',\n",
       " '165',\n",
       " '8',\n",
       " '89',\n",
       " '79',\n",
       " '4',\n",
       " '200',\n",
       " '54',\n",
       " '50',\n",
       " '49',\n",
       " '22',\n",
       " '12',\n",
       " '25',\n",
       " '68',\n",
       " '5',\n",
       " '166',\n",
       " '85',\n",
       " '184',\n",
       " '179',\n",
       " '34',\n",
       " '29',\n",
       " '129',\n",
       " '189',\n",
       " '113',\n",
       " '152',\n",
       " '104',\n",
       " '137',\n",
       " '42',\n",
       " '84',\n",
       " '158',\n",
       " '9',\n",
       " '81',\n",
       " '163',\n",
       " '124',\n",
       " '161',\n",
       " '39',\n",
       " '181',\n",
       " '131',\n",
       " '6',\n",
       " '139',\n",
       " '123',\n",
       " '171',\n",
       " '80',\n",
       " '100',\n",
       " '24',\n",
       " '59',\n",
       " '101',\n",
       " '19',\n",
       " '144',\n",
       " '71',\n",
       " '21',\n",
       " '37',\n",
       " '176',\n",
       " '188',\n",
       " '173',\n",
       " '162',\n",
       " '103',\n",
       " '7',\n",
       " '40',\n",
       " '88',\n",
       " '125',\n",
       " '67',\n",
       " '53',\n",
       " '97',\n",
       " '44',\n",
       " '51',\n",
       " '147',\n",
       " '10',\n",
       " '186',\n",
       " '114',\n",
       " '154',\n",
       " '3',\n",
       " '16',\n",
       " '82',\n",
       " '142',\n",
       " '170',\n",
       " '74',\n",
       " '196',\n",
       " '109',\n",
       " '63',\n",
       " '140',\n",
       " '86',\n",
       " '132',\n",
       " '33',\n",
       " '83',\n",
       " '116',\n",
       " '195',\n",
       " '23',\n",
       " '43',\n",
       " '90',\n",
       " '117',\n",
       " '143',\n",
       " '28',\n",
       " '20',\n",
       " '193',\n",
       " '102',\n",
       " '47']"
      ]
     },
     "execution_count": 118,
     "metadata": {},
     "output_type": "execute_result"
    }
   ],
   "source": [
    "mylist=[x.replace(\"\\n\",\"\") for x in mylist]\n",
    "mylist=mylist[1:]\n",
    "mylist"
   ]
  },
  {
   "cell_type": "code",
   "execution_count": 132,
   "metadata": {
    "collapsed": false
   },
   "outputs": [
    {
     "name": "stdout",
     "output_type": "stream",
     "text": [
      "Case #1: INSOMNIA\n",
      "Case #2: 10\n",
      "Case #3: 90\n",
      "Case #4: 110\n",
      "Case #5: 2475\n",
      "Case #6: 96\n",
      "Case #7: 801\n",
      "Case #8: 790\n",
      "Case #9: 92\n",
      "Case #10: 9000\n",
      "Case #11: 594\n",
      "Case #12: 900\n",
      "Case #13: 490\n",
      "Case #14: 198\n",
      "Case #15: 156\n",
      "Case #16: 900\n",
      "Case #17: 952\n",
      "Case #18: 90\n",
      "Case #19: 5478\n",
      "Case #20: 680\n",
      "Case #21: 920\n",
      "Case #22: 1253\n",
      "Case #23: 918\n",
      "Case #24: 203\n",
      "Case #25: 903\n",
      "Case #26: 1701\n",
      "Case #27: 904\n",
      "Case #28: 912\n",
      "Case #29: 936\n",
      "Case #30: 1096\n",
      "Case #31: 378\n",
      "Case #32: 924\n",
      "Case #33: 790\n",
      "Case #34: 90\n",
      "Case #35: 729\n",
      "Case #36: 1304\n",
      "Case #37: 2356\n",
      "Case #38: 1127\n",
      "Case #39: 390\n",
      "Case #40: 905\n",
      "Case #41: 1048\n",
      "Case #42: 90\n",
      "Case #43: 1390\n",
      "Case #44: 1107\n",
      "Case #45: 1197\n",
      "Case #46: 960\n",
      "Case #47: 900\n",
      "Case #48: 456\n",
      "Case #49: 590\n",
      "Case #50: 909\n",
      "Case #51: 190\n",
      "Case #52: 1296\n",
      "Case #53: 710\n",
      "Case #54: 189\n",
      "Case #55: 370\n",
      "Case #56: 1936\n",
      "Case #57: 940\n",
      "Case #58: 1038\n",
      "Case #59: 1458\n",
      "Case #60: 721\n",
      "Case #61: 70\n",
      "Case #62: 920\n",
      "Case #63: 792\n",
      "Case #64: 9000\n",
      "Case #65: 469\n",
      "Case #66: 424\n",
      "Case #67: 970\n",
      "Case #68: 396\n",
      "Case #69: 459\n",
      "Case #70: 1176\n",
      "Case #71: 90\n",
      "Case #72: 930\n",
      "Case #73: 798\n",
      "Case #74: 924\n",
      "Case #75: 30\n",
      "Case #76: 256\n",
      "Case #77: 574\n",
      "Case #78: 1136\n",
      "Case #79: 1190\n",
      "Case #80: 518\n",
      "Case #81: 980\n",
      "Case #82: 545\n",
      "Case #83: 504\n",
      "Case #84: 2380\n",
      "Case #85: 946\n",
      "Case #86: 792\n",
      "Case #87: 330\n",
      "Case #88: 830\n",
      "Case #89: 1276\n",
      "Case #90: 2145\n",
      "Case #91: 207\n",
      "Case #92: 301\n",
      "Case #93: 450\n",
      "Case #94: 819\n",
      "Case #95: 1001\n",
      "Case #96: 476\n",
      "Case #97: 900\n",
      "Case #98: 1930\n",
      "Case #99: 918\n",
      "Case #100: 470\n"
     ]
    }
   ],
   "source": [
    "for index,val in enumerate(mylist):\n",
    "    print(\"Case #{}: {}\".format(index+1,last_name(int(val))))\n",
    "            \n",
    "            "
   ]
  },
  {
   "cell_type": "code",
   "execution_count": 94,
   "metadata": {
    "collapsed": true
   },
   "outputs": [
    {
     "name": "stdout",
     "output_type": "stream",
     "text": [
      "100\n",
      "\n",
      "0\n",
      "\n",
      "1\n",
      "\n",
      "2\n",
      "\n",
      "11\n",
      "\n",
      "165\n",
      "\n",
      "8\n",
      "\n",
      "89\n",
      "\n",
      "79\n",
      "\n",
      "4\n",
      "\n",
      "200\n",
      "\n",
      "54\n",
      "\n",
      "50\n",
      "\n",
      "49\n",
      "\n",
      "22\n",
      "\n",
      "12\n",
      "\n",
      "25\n",
      "\n",
      "68\n",
      "\n",
      "5\n",
      "\n",
      "166\n",
      "\n",
      "85\n",
      "\n",
      "184\n",
      "\n",
      "179\n",
      "\n",
      "34\n",
      "\n",
      "29\n",
      "\n",
      "129\n",
      "\n",
      "189\n",
      "\n",
      "113\n",
      "\n",
      "152\n",
      "\n",
      "104\n",
      "\n",
      "137\n",
      "\n",
      "42\n",
      "\n",
      "84\n",
      "\n",
      "158\n",
      "\n",
      "9\n",
      "\n",
      "81\n",
      "\n",
      "163\n",
      "\n",
      "124\n",
      "\n",
      "161\n",
      "\n",
      "39\n",
      "\n",
      "181\n",
      "\n",
      "131\n",
      "\n",
      "6\n",
      "\n",
      "139\n",
      "\n",
      "123\n",
      "\n",
      "171\n",
      "\n",
      "80\n",
      "\n",
      "100\n",
      "\n",
      "24\n",
      "\n",
      "59\n",
      "\n",
      "101\n",
      "\n",
      "19\n",
      "\n",
      "144\n",
      "\n",
      "71\n",
      "\n",
      "21\n",
      "\n",
      "37\n",
      "\n",
      "176\n",
      "\n",
      "188\n",
      "\n",
      "173\n",
      "\n",
      "162\n",
      "\n",
      "103\n",
      "\n",
      "7\n",
      "\n",
      "40\n",
      "\n",
      "88\n",
      "\n",
      "125\n",
      "\n",
      "67\n",
      "\n",
      "53\n",
      "\n",
      "97\n",
      "\n",
      "44\n",
      "\n",
      "51\n",
      "\n",
      "147\n",
      "\n",
      "10\n",
      "\n",
      "186\n",
      "\n",
      "114\n",
      "\n",
      "154\n",
      "\n",
      "3\n",
      "\n",
      "16\n",
      "\n",
      "82\n",
      "\n",
      "142\n",
      "\n",
      "170\n",
      "\n",
      "74\n",
      "\n",
      "196\n",
      "\n",
      "109\n",
      "\n",
      "63\n",
      "\n",
      "140\n",
      "\n",
      "86\n",
      "\n",
      "132\n",
      "\n",
      "33\n",
      "\n",
      "83\n",
      "\n",
      "116\n",
      "\n",
      "195\n",
      "\n",
      "23\n",
      "\n",
      "43\n",
      "\n",
      "90\n",
      "\n",
      "117\n",
      "\n",
      "143\n",
      "\n",
      "28\n",
      "\n",
      "20\n",
      "\n",
      "193\n",
      "\n",
      "102\n",
      "\n",
      "47\n",
      "\n"
     ]
    },
    {
     "data": {
      "text/plain": [
       "'1\\n'"
      ]
     },
     "execution_count": 94,
     "metadata": {},
     "output_type": "execute_result"
    }
   ],
   "source": [
    "for i in mylist:\n",
    "    i.replace(\"\\n\",\"\")\n",
    "    print(i)\n",
    "    d.append(i)\n",
    "\n"
   ]
  },
  {
   "cell_type": "code",
   "execution_count": 86,
   "metadata": {
    "collapsed": true
   },
   "outputs": [],
   "source": [
    "mylist = d[1:]"
   ]
  },
  {
   "cell_type": "code",
   "execution_count": 87,
   "metadata": {
    "collapsed": false
   },
   "outputs": [
    {
     "data": {
      "text/plain": [
       "['0\\n',\n",
       " '1\\n',\n",
       " '2\\n',\n",
       " '11\\n',\n",
       " '165\\n',\n",
       " '8\\n',\n",
       " '89\\n',\n",
       " '79\\n',\n",
       " '4\\n',\n",
       " '200\\n',\n",
       " '54\\n',\n",
       " '50\\n',\n",
       " '49\\n',\n",
       " '22\\n',\n",
       " '12\\n',\n",
       " '25\\n',\n",
       " '68\\n',\n",
       " '5\\n',\n",
       " '166\\n',\n",
       " '85\\n',\n",
       " '184\\n',\n",
       " '179\\n',\n",
       " '34\\n',\n",
       " '29\\n',\n",
       " '129\\n',\n",
       " '189\\n',\n",
       " '113\\n',\n",
       " '152\\n',\n",
       " '104\\n',\n",
       " '137\\n',\n",
       " '42\\n',\n",
       " '84\\n',\n",
       " '158\\n',\n",
       " '9\\n',\n",
       " '81\\n',\n",
       " '163\\n',\n",
       " '124\\n',\n",
       " '161\\n',\n",
       " '39\\n',\n",
       " '181\\n',\n",
       " '131\\n',\n",
       " '6\\n',\n",
       " '139\\n',\n",
       " '123\\n',\n",
       " '171\\n',\n",
       " '80\\n',\n",
       " '100\\n',\n",
       " '24\\n',\n",
       " '59\\n',\n",
       " '101\\n',\n",
       " '19\\n',\n",
       " '144\\n',\n",
       " '71\\n',\n",
       " '21\\n',\n",
       " '37\\n',\n",
       " '176\\n',\n",
       " '188\\n',\n",
       " '173\\n',\n",
       " '162\\n',\n",
       " '103\\n',\n",
       " '7\\n',\n",
       " '40\\n',\n",
       " '88\\n',\n",
       " '125\\n',\n",
       " '67\\n',\n",
       " '53\\n',\n",
       " '97\\n',\n",
       " '44\\n',\n",
       " '51\\n',\n",
       " '147\\n',\n",
       " '10\\n',\n",
       " '186\\n',\n",
       " '114\\n',\n",
       " '154\\n',\n",
       " '3\\n',\n",
       " '16\\n',\n",
       " '82\\n',\n",
       " '142\\n',\n",
       " '170\\n',\n",
       " '74\\n',\n",
       " '196\\n',\n",
       " '109\\n',\n",
       " '63\\n',\n",
       " '140\\n',\n",
       " '86\\n',\n",
       " '132\\n',\n",
       " '33\\n',\n",
       " '83\\n',\n",
       " '116\\n',\n",
       " '195\\n',\n",
       " '23\\n',\n",
       " '43\\n',\n",
       " '90\\n',\n",
       " '117\\n',\n",
       " '143\\n',\n",
       " '28\\n',\n",
       " '20\\n',\n",
       " '193\\n',\n",
       " '102\\n',\n",
       " '47\\n']"
      ]
     },
     "execution_count": 87,
     "metadata": {},
     "output_type": "execute_result"
    }
   ],
   "source": [
    "mylist"
   ]
  },
  {
   "cell_type": "code",
   "execution_count": 3,
   "metadata": {
    "collapsed": false
   },
   "outputs": [
    {
     "name": "stdout",
     "output_type": "stream",
     "text": [
      "Hello World!\n",
      "Guru99\n"
     ]
    }
   ],
   "source": [
    "def main():\n",
    "    \n",
    "    print(\"Hello World!\")\n",
    "\n",
    "if __name__ == \"__main__\":\n",
    "    main()\n",
    "\n",
    "\n",
    "print(\"Guru99\")"
   ]
  },
  {
   "cell_type": "code",
   "execution_count": 66,
   "metadata": {
    "collapsed": false
   },
   "outputs": [
    {
     "data": {
      "text/plain": [
       "False"
      ]
     },
     "execution_count": 66,
     "metadata": {},
     "output_type": "execute_result"
    }
   ],
   "source": [
    "sorted(['7', '2', '3', '0', '8', '4', '6', '1', '5', '9']) ==num_list"
   ]
  },
  {
   "cell_type": "code",
   "execution_count": 13,
   "metadata": {
    "collapsed": false
   },
   "outputs": [
    {
     "name": "stdout",
     "output_type": "stream",
     "text": [
      "1 2 3 4 5 6 7 8 9 "
     ]
    }
   ],
   "source": [
    "for i in range(1,10):\n",
    "    print(i,end=\" \")"
   ]
  },
  {
   "cell_type": "code",
   "execution_count": 60,
   "metadata": {
    "collapsed": false
   },
   "outputs": [],
   "source": [
    "a =2344\n",
    "l=[x for x in str(a)]"
   ]
  },
  {
   "cell_type": "code",
   "execution_count": 62,
   "metadata": {
    "collapsed": false
   },
   "outputs": [
    {
     "data": {
      "text/plain": [
       "{'2', '3', '4'}"
      ]
     },
     "execution_count": 62,
     "metadata": {},
     "output_type": "execute_result"
    }
   ],
   "source": [
    "set(l)"
   ]
  },
  {
   "cell_type": "code",
   "execution_count": 140,
   "metadata": {
    "collapsed": false
   },
   "outputs": [
    {
     "name": "stdout",
     "output_type": "stream",
     "text": [
      "--Call--\n",
      "> c:\\program files\\anaconda3\\lib\\site-packages\\ipython\\core\\displayhook.py(236)__call__()\n",
      "-> def __call__(self, result=None):\n",
      "(Pdb) 42\n",
      "42\n",
      "(Pdb) print(\"hello\")\n",
      "hello\n",
      "(Pdb) \n",
      "hello\n",
      "(Pdb) \n",
      "hello\n",
      "(Pdb) \n",
      "hello\n",
      "(Pdb) \n",
      "hello\n",
      "(Pdb) \n",
      "hello\n",
      "(Pdb) \n",
      "hello\n",
      "(Pdb) \n",
      "hello\n",
      "(Pdb) \n",
      "hello\n",
      "(Pdb) exit\n"
     ]
    },
    {
     "ename": "BdbQuit",
     "evalue": "",
     "output_type": "error",
     "traceback": [
      "\u001b[1;31m---------------------------------------------------------------------------\u001b[0m",
      "\u001b[1;31mBdbQuit\u001b[0m                                   Traceback (most recent call last)",
      "\u001b[1;32m<ipython-input-140-e862a0842185>\u001b[0m in \u001b[0;36m<module>\u001b[1;34m()\u001b[0m\n\u001b[0;32m      1\u001b[0m \u001b[1;32mimport\u001b[0m \u001b[0mpdb\u001b[0m\u001b[1;33m\u001b[0m\u001b[0m\n\u001b[1;32m----> 2\u001b[1;33m \u001b[0mpdb\u001b[0m\u001b[1;33m.\u001b[0m\u001b[0mset_trace\u001b[0m\u001b[1;33m(\u001b[0m\u001b[1;33m)\u001b[0m\u001b[1;33m\u001b[0m\u001b[0m\n\u001b[0m",
      "\u001b[1;32mC:\\Program Files\\Anaconda3\\lib\\site-packages\\IPython\\core\\displayhook.py\u001b[0m in \u001b[0;36m__call__\u001b[1;34m(self, result)\u001b[0m\n\u001b[0;32m    234\u001b[0m         \u001b[0mio\u001b[0m\u001b[1;33m.\u001b[0m\u001b[0mstdout\u001b[0m\u001b[1;33m.\u001b[0m\u001b[0mflush\u001b[0m\u001b[1;33m(\u001b[0m\u001b[1;33m)\u001b[0m\u001b[1;33m\u001b[0m\u001b[0m\n\u001b[0;32m    235\u001b[0m \u001b[1;33m\u001b[0m\u001b[0m\n\u001b[1;32m--> 236\u001b[1;33m     \u001b[1;32mdef\u001b[0m \u001b[0m__call__\u001b[0m\u001b[1;33m(\u001b[0m\u001b[0mself\u001b[0m\u001b[1;33m,\u001b[0m \u001b[0mresult\u001b[0m\u001b[1;33m=\u001b[0m\u001b[1;32mNone\u001b[0m\u001b[1;33m)\u001b[0m\u001b[1;33m:\u001b[0m\u001b[1;33m\u001b[0m\u001b[0m\n\u001b[0m\u001b[0;32m    237\u001b[0m         \"\"\"Printing with history cache management.\n\u001b[0;32m    238\u001b[0m \u001b[1;33m\u001b[0m\u001b[0m\n",
      "\u001b[1;32mC:\\Program Files\\Anaconda3\\lib\\bdb.py\u001b[0m in \u001b[0;36mtrace_dispatch\u001b[1;34m(self, frame, event, arg)\u001b[0m\n\u001b[0;32m     48\u001b[0m             \u001b[1;32mreturn\u001b[0m \u001b[0mself\u001b[0m\u001b[1;33m.\u001b[0m\u001b[0mdispatch_line\u001b[0m\u001b[1;33m(\u001b[0m\u001b[0mframe\u001b[0m\u001b[1;33m)\u001b[0m\u001b[1;33m\u001b[0m\u001b[0m\n\u001b[0;32m     49\u001b[0m         \u001b[1;32mif\u001b[0m \u001b[0mevent\u001b[0m \u001b[1;33m==\u001b[0m \u001b[1;34m'call'\u001b[0m\u001b[1;33m:\u001b[0m\u001b[1;33m\u001b[0m\u001b[0m\n\u001b[1;32m---> 50\u001b[1;33m             \u001b[1;32mreturn\u001b[0m \u001b[0mself\u001b[0m\u001b[1;33m.\u001b[0m\u001b[0mdispatch_call\u001b[0m\u001b[1;33m(\u001b[0m\u001b[0mframe\u001b[0m\u001b[1;33m,\u001b[0m \u001b[0marg\u001b[0m\u001b[1;33m)\u001b[0m\u001b[1;33m\u001b[0m\u001b[0m\n\u001b[0m\u001b[0;32m     51\u001b[0m         \u001b[1;32mif\u001b[0m \u001b[0mevent\u001b[0m \u001b[1;33m==\u001b[0m \u001b[1;34m'return'\u001b[0m\u001b[1;33m:\u001b[0m\u001b[1;33m\u001b[0m\u001b[0m\n\u001b[0;32m     52\u001b[0m             \u001b[1;32mreturn\u001b[0m \u001b[0mself\u001b[0m\u001b[1;33m.\u001b[0m\u001b[0mdispatch_return\u001b[0m\u001b[1;33m(\u001b[0m\u001b[0mframe\u001b[0m\u001b[1;33m,\u001b[0m \u001b[0marg\u001b[0m\u001b[1;33m)\u001b[0m\u001b[1;33m\u001b[0m\u001b[0m\n",
      "\u001b[1;32mC:\\Program Files\\Anaconda3\\lib\\bdb.py\u001b[0m in \u001b[0;36mdispatch_call\u001b[1;34m(self, frame, arg)\u001b[0m\n\u001b[0;32m     81\u001b[0m             \u001b[1;32mreturn\u001b[0m \u001b[0mself\u001b[0m\u001b[1;33m.\u001b[0m\u001b[0mtrace_dispatch\u001b[0m\u001b[1;33m\u001b[0m\u001b[0m\n\u001b[0;32m     82\u001b[0m         \u001b[0mself\u001b[0m\u001b[1;33m.\u001b[0m\u001b[0muser_call\u001b[0m\u001b[1;33m(\u001b[0m\u001b[0mframe\u001b[0m\u001b[1;33m,\u001b[0m \u001b[0marg\u001b[0m\u001b[1;33m)\u001b[0m\u001b[1;33m\u001b[0m\u001b[0m\n\u001b[1;32m---> 83\u001b[1;33m         \u001b[1;32mif\u001b[0m \u001b[0mself\u001b[0m\u001b[1;33m.\u001b[0m\u001b[0mquitting\u001b[0m\u001b[1;33m:\u001b[0m \u001b[1;32mraise\u001b[0m \u001b[0mBdbQuit\u001b[0m\u001b[1;33m\u001b[0m\u001b[0m\n\u001b[0m\u001b[0;32m     84\u001b[0m         \u001b[1;32mreturn\u001b[0m \u001b[0mself\u001b[0m\u001b[1;33m.\u001b[0m\u001b[0mtrace_dispatch\u001b[0m\u001b[1;33m\u001b[0m\u001b[0m\n\u001b[0;32m     85\u001b[0m \u001b[1;33m\u001b[0m\u001b[0m\n",
      "\u001b[1;31mBdbQuit\u001b[0m: "
     ]
    }
   ],
   "source": [
    "import pdb\n",
    "pdb.set_trace()"
   ]
  },
  {
   "cell_type": "code",
   "execution_count": null,
   "metadata": {
    "collapsed": false
   },
   "outputs": [],
   "source": []
  },
  {
   "cell_type": "code",
   "execution_count": null,
   "metadata": {
    "collapsed": true
   },
   "outputs": [],
   "source": []
  },
  {
   "cell_type": "code",
   "execution_count": null,
   "metadata": {
    "collapsed": true
   },
   "outputs": [],
   "source": []
  },
  {
   "cell_type": "code",
   "execution_count": null,
   "metadata": {
    "collapsed": true
   },
   "outputs": [],
   "source": []
  },
  {
   "cell_type": "code",
   "execution_count": null,
   "metadata": {
    "collapsed": true
   },
   "outputs": [],
   "source": []
  },
  {
   "cell_type": "code",
   "execution_count": null,
   "metadata": {
    "collapsed": true
   },
   "outputs": [],
   "source": []
  },
  {
   "cell_type": "code",
   "execution_count": null,
   "metadata": {
    "collapsed": true
   },
   "outputs": [],
   "source": []
  }
 ],
 "metadata": {
  "anaconda-cloud": {},
  "kernelspec": {
   "display_name": "Python 3",
   "language": "python",
   "name": "python3"
  },
  "language_info": {
   "codemirror_mode": {
    "name": "ipython",
    "version": 3
   },
   "file_extension": ".py",
   "mimetype": "text/x-python",
   "name": "python",
   "nbconvert_exporter": "python",
   "pygments_lexer": "ipython3",
   "version": "3.5.2"
  }
 },
 "nbformat": 4,
 "nbformat_minor": 1
}
